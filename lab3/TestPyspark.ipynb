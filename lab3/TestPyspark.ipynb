{
 "cells": [
  {
   "cell_type": "markdown",
   "metadata": {},
   "source": [
    "# Mining Data Streams\n",
    "\n",
    "In this lab, we are supposed to pick a dataset and a paper. \n",
    "\n",
    "## Dataset\n",
    "We use the [Google Webgraph dataset](https://snap.stanford.edu/data/web-Google.html). Potential caveat that it contains *directed* edges. \n",
    "\n",
    "| **Property** | **Value** |\n",
    "| --- | --- |\n",
    "| Nodes | 875713          |\n",
    "| Edges | 5105039         |\n",
    "| Nodes in largest WCC | 855802 (0.977)  |\n",
    "| Edges in largest WCC | 5066842 (0.993) |\n",
    "| Nodes in largest SCC | 434818 (0.497)  |\n",
    "| Edges in largest SCC | 3419124 (0.670) |\n",
    "| Average clustering coefficient   | 0.5143          |\n",
    "| Number of triangles              | 13391903        |\n",
    "| Fraction of closed triangles     | 0.01911         |\n",
    "| Diameter (longest shortest path) | 21              |\n",
    "| 90-percentile effective diameter | 8.1             |\n",
    "\n",
    "## Paper\n",
    "* ~~We chose the algorithm in the paper [A Space-Efficient Streaming Algorithm for Estimating Transitivity and Triangle Counts Using the Birthday Paradox](https://arxiv.org/pdf/1212.2264.pdf) by M. Jha, C. Seshadhri, and A. Pinar.~~\n",
    "* Second thought, how about no. Terrible psuedocode made us turn to [TRIÈST: Counting Local and Global Triangles in\n",
    "Fully-Dynamic Streams with Fixed Memory Size](https://www.kdd.org/kdd2016/papers/files/rfp0465-de-stefaniA.pdf)"
   ]
  },
  {
   "cell_type": "markdown",
   "metadata": {},
   "source": [
    "### How to run this Notebook with Docker\n",
    "If you want to run this Notebook with Docker, the Jupyter team has several images over at ... . In the [documentation](https://jupyter-docker-stacks.readthedocs.io/en/latest/index.html) they show an example:\n",
    "\n",
    "```bash\n",
    "docker run -p 10000:8888 jupyter/pyspark-notebook:latest\n",
    "```\n",
    "\n",
    "> Visiting `http://<hostname>:10000/?token=<token>` in a browser loads JupyterLab, where `<hostname> = 0.0.0.0` and token is generated in the terminal."
   ]
  },
  {
   "cell_type": "code",
   "execution_count": 4,
   "metadata": {},
   "outputs": [
    {
     "data": {
      "text/html": [
       "\n",
       "            <div>\n",
       "                <p><b>SparkSession - in-memory</b></p>\n",
       "                \n",
       "        <div>\n",
       "            <p><b>SparkContext</b></p>\n",
       "\n",
       "            <p><a href=\"http://e207d9f932ba:4040\">Spark UI</a></p>\n",
       "\n",
       "            <dl>\n",
       "              <dt>Version</dt>\n",
       "                <dd><code>v3.3.1</code></dd>\n",
       "              <dt>Master</dt>\n",
       "                <dd><code>local[*]</code></dd>\n",
       "              <dt>AppName</dt>\n",
       "                <dd><code>lab3</code></dd>\n",
       "            </dl>\n",
       "        </div>\n",
       "        \n",
       "            </div>\n",
       "        "
      ],
      "text/plain": [
       "<pyspark.sql.session.SparkSession at 0xffff72c1c7f0>"
      ]
     },
     "execution_count": 4,
     "metadata": {},
     "output_type": "execute_result"
    }
   ],
   "source": [
    "import pyspark # only run after findspark.init()\n",
    "from pyspark.sql import SparkSession\n",
    "\n",
    "spark = SparkSession.builder.appName(\"lab3\").getOrCreate()\n",
    "spark.sparkContext.setLogLevel(\"WARN\")\n",
    "spark"
   ]
  },
  {
   "cell_type": "code",
   "execution_count": 20,
   "metadata": {},
   "outputs": [],
   "source": [
    "NUMBER_OF_TRIANGLES = 13391903"
   ]
  },
  {
   "cell_type": "code",
   "execution_count": 5,
   "metadata": {},
   "outputs": [],
   "source": [
    "# read a csv file with pyspark\n",
    "rdd = spark.read.option(\"delimiter\", \"\\t\").csv(\"../../data/web-Google.txt\", header=True, inferSchema=True)"
   ]
  },
  {
   "cell_type": "code",
   "execution_count": 6,
   "metadata": {},
   "outputs": [
    {
     "name": "stdout",
     "output_type": "stream",
     "text": [
      "+----------+--------+\n",
      "|FromNodeId|ToNodeId|\n",
      "+----------+--------+\n",
      "|         0|   11342|\n",
      "|         0|  824020|\n",
      "|         0|  867923|\n",
      "|         0|  891835|\n",
      "|     11342|       0|\n",
      "+----------+--------+\n",
      "only showing top 5 rows\n",
      "\n"
     ]
    }
   ],
   "source": [
    "# show df schema\n",
    "rdd.show(5)"
   ]
  },
  {
   "cell_type": "markdown",
   "metadata": {},
   "source": [
    "I don't know how to simulate a stream properly, so I'll convert the rdd to a Panda's dataframe, and iterate over each row 🤷🏻‍♂️"
   ]
  },
  {
   "cell_type": "code",
   "execution_count": 7,
   "metadata": {},
   "outputs": [],
   "source": [
    "import pandas as pd\n",
    "spark.conf.set(\"spark.sql.execution.arrow.enabled\", \"true\")\n",
    "df = rdd.toPandas()\n",
    "stream = []\n",
    "for index, row in df.iterrows():\n",
    "    edge = (row[0], row[1])\n",
    "    stream.append(edge)"
   ]
  },
  {
   "cell_type": "markdown",
   "metadata": {},
   "source": [
    "In order to maintain a subgraph, we implement a `Graph` class which  simulates an undirected graph and holds all edges in an adjacency list. Since we are calling the `neighbors` method a lot, keeping them in an adjency list is more efficient than iterating over the whole list of edges. "
   ]
  },
  {
   "cell_type": "code",
   "execution_count": 8,
   "metadata": {},
   "outputs": [],
   "source": [
    "from collections import defaultdict\n",
    "import random\n",
    "\n",
    "class Graph:\n",
    "    \"\"\"\n",
    "    A graph object to simplify the implementation of the algorithm\n",
    "    \"\"\"\n",
    "    def __init__(self):\n",
    "        self.adj_list = defaultdict(set)\n",
    "        self.edges = 0\n",
    "    \n",
    "    def add_edge(self, edge):\n",
    "        u, v = edge\n",
    "        self.adj_list[u].add(v)\n",
    "        self.adj_list[v].add(u)\n",
    "        self.edges = self.edges + 1\n",
    "    \n",
    "    def remove_edge(self, edge):\n",
    "        u, v = edge\n",
    "        # remove edge from all neighbors\n",
    "        self.adj_list[u].remove(v)\n",
    "        self.adj_list[v].remove(u)\n",
    "        # the paper says to remove the vertex if it has no neighbors\n",
    "        self.prune_empty_vertices(edge)\n",
    "        self.edges = self.edges - 1\n",
    "    \n",
    "    def prune_empty_vertices(self, edge):\n",
    "        u, v = edge\n",
    "        # adjacency list empty -> remove vertex\n",
    "        if len(self.adj_list[u]) == 0:\n",
    "            del self.adj_list[u]\n",
    "        if len(self.adj_list[v]) == 0:\n",
    "            del self.adj_list[v]\n",
    "\n",
    "    def neighbors(self, edge):\n",
    "        u, v = edge\n",
    "        # since the edge might come from the stream, we need to check if it is in the graph.\n",
    "        # If it is not, we return an empty set, else we return the adjecency list of respective vertex\n",
    "        if u not in self.adj_list or v not in self.adj_list:\n",
    "            return set()\n",
    "        else:\n",
    "            return self.adj_list[u] & self.adj_list[v]\n",
    "    \n",
    "    def yield_random_edge(self):\n",
    "        # pick a random vertex from the graph\n",
    "        x = random.choice(list(self.adj_list))\n",
    "        # pick a random neighbor, vertex y, of x\n",
    "        y = random.choice(list(self.adj_list[x]))\n",
    "        return (x, y)"
   ]
  },
  {
   "cell_type": "markdown",
   "metadata": {},
   "source": [
    "Parameters in the paper:\n",
    "\n",
    "* Our algorithms keep an edge sample $\\mathcal{S}$ of up to $M$ edges from the stream (as contrary to sampling with a probability $p$)\n",
    "\n",
    "* Trièst algorithms keep counters to compute the estimations of the global and local number of triangles. They always keep one global counter $\\tau$ for the estimation of the global number of triangles.\n",
    "\n",
    "* For any t ≥ 0, let $G^S = (V^S, E^S)$ be the subgraph of $G(t)$ containing all and only the edges in the currentsample $\\mathcal{S}$. We denote with $\\mathcal{N}^S_u$ the neighborhood of $u$ in $G^S: \\mathcal{N}^S_u = \\{v ∈ V^{(t)}: (u, v) ∈ \\mathcal{S}\\}$ and with $\\mathcal{N}^\\mathcal{S}_{u, v} = \\mathcal{N}^\\mathcal{S}_u \\cap \\mathcal{N}^\\mathcal{S}_v$ the shared neighborhood of $u$ and $v$ in $G^\\mathcal{S}$"
   ]
  },
  {
   "cell_type": "code",
   "execution_count": 9,
   "metadata": {},
   "outputs": [],
   "source": [
    "import numpy as np\n",
    "from random import sample\n",
    "from operator import add, sub\n",
    "\n",
    "class TriestBase:\n",
    "    # set up nasty globals >_<\n",
    "    def __init__(self, stream, M=6):\n",
    "        self.stream = stream\n",
    "        self.tau = defaultdict(int)\n",
    "        # TODO borde S vara en adjecency list?\n",
    "        self.S = Graph()\n",
    "        self.t = 0\n",
    "        self.M = M\n",
    "\n",
    "    def run(self):\n",
    "        # Here I simulate a stream of edges\n",
    "        for edge in self.stream:\n",
    "            self.t+=1\n",
    "            if self.sample_edge(edge):\n",
    "                self.S.add_edge(edge)\n",
    "                self.update_counters(operator=add, edge=edge)\n",
    "\n",
    "    def sample_edge(self, edge):\n",
    "        if self.t <= self.M:\n",
    "            return True\n",
    "        elif self.flip_biased_coin(self.M/self.t):\n",
    "            # pick a random edge from S\n",
    "            random_edge = self.S.yield_random_edge()\n",
    "            # remove it from S\n",
    "            self.S.remove_edge(random_edge)\n",
    "            self.update_counters(operator=sub, edge=random_edge)\n",
    "            return True\n",
    "        else:\n",
    "            return False\n",
    "\n",
    "    def flip_biased_coin(self, p):\n",
    "        # TODO is olikheten correct or should it be '>'?\n",
    "        return np.random.rand() < p\n",
    "\n",
    "    def update_counters(self, operator, edge):\n",
    "        u, v = edge\n",
    "        neighborhood = self.S.neighbors(edge)\n",
    "        for c in neighborhood:\n",
    "            # bug here, the operator is malfunctioning???\n",
    "            self.tau['global'] = operator(self.tau['global'], 1)\n",
    "            self.tau[c] = operator(self.tau[c], 1)\n",
    "            self.tau[u] = operator(self.tau[u], 1)\n",
    "            self.tau[v] = operator(self.tau[v], 1)\n",
    "    \n",
    "    def xi(self, t, M):\n",
    "        f = lambda x: x * (x-1) * (x-2)\n",
    "        candidate = f(t) / f(M)\n",
    "        print(f\"t: {t}, M: {M}, tau: {self.tau['global']}\")\n",
    "        print(f\"f(t): {f(t)}, f(M): {f(M)}\")\n",
    "        print(f\"candidate f(t)/f(M): {candidate}\")\n",
    "        return np.max([1.0, candidate])\n",
    "    \n",
    "    def global_estimate(self):\n",
    "        return self.xi(self.t, self.M) * self.tau['global']\n"
   ]
  },
  {
   "cell_type": "code",
   "execution_count": 54,
   "metadata": {},
   "outputs": [],
   "source": [
    "tb = TriestBase(stream, M=40000)\n",
    "tb.run()"
   ]
  },
  {
   "cell_type": "code",
   "execution_count": 58,
   "metadata": {},
   "outputs": [
    {
     "name": "stdout",
     "output_type": "stream",
     "text": [
      "t: 5105039, M: 40000, tau: 75559\n",
      "f(t): 133044503603959809834, f(M): 63995200080000\n",
      "candidate f(t)/f(M): 2078976.2894348593\n",
      "estimate: 157085369453\n",
      "actual: 13391903\n",
      "error: 11729%\n"
     ]
    }
   ],
   "source": [
    "estimate = int(tb.global_estimate())\n",
    "print(f\"estimate: {estimate}\")\n",
    "print(f\"actual: {NUMBER_OF_TRIANGLES}\")\n",
    "print(f\"error: {int(estimate/NUMBER_OF_TRIANGLES)}%\")"
   ]
  },
  {
   "cell_type": "markdown",
   "metadata": {},
   "source": [
    "Not even close to the real number, but it works. Probably alot better for smaller networks.\n"
   ]
  },
  {
   "cell_type": "markdown",
   "metadata": {},
   "source": [
    "## Triéste Improved\n",
    "\n",
    "The pseudocode for the improved version of Triéste is found in [the full paper](https://arxiv.org/pdf/1602.07424.pdf), found on Arxiv.\n",
    "\n",
    "Changes:\n",
    "\n",
    "* `update_counters` is called for every edge in the stream, not just the ones in the sample\n",
    "* `update_counters` is modified and using $\\eta$ instead of operators $+$ or $-$ for each update."
   ]
  },
  {
   "cell_type": "code",
   "execution_count": 16,
   "metadata": {},
   "outputs": [],
   "source": [
    "import numpy as np\n",
    "from random import sample\n",
    "from operator import add, sub\n",
    "\n",
    "class TriestImproved:\n",
    "    # set up nasty globals >_<\n",
    "    def __init__(self, stream, M=6):\n",
    "        # TODO antagligen krånglar det pga google-grafen är en directed graph\n",
    "        self.stream = stream\n",
    "        # defaultdict avoids missing key errors, and with 'int' it defaults to 0\n",
    "        self.tau = defaultdict(int)\n",
    "        self.S = Graph()\n",
    "        self.t = 0\n",
    "        self.M = M\n",
    "\n",
    "    def run(self):\n",
    "        # Here I simulate a stream of edges\n",
    "        for edge in self.stream:\n",
    "            self.t+=1\n",
    "            # NOTE modified from BASE\n",
    "            self.update_counters(edge)\n",
    "            if self.sample_edge(edge):\n",
    "                self.S.add_edge(edge)\n",
    "\n",
    "    def sample_edge(self, edge):\n",
    "        if self.t <= self.M:\n",
    "            return True\n",
    "        elif self.flip_biased_coin(self.M/self.t):\n",
    "            # pick a random edge from S\n",
    "            random_edge = self.S.yield_random_edge()\n",
    "            # remove it from S\n",
    "            self.S.remove_edge(random_edge)\n",
    "            return True\n",
    "        else:\n",
    "            return False\n",
    "\n",
    "    def flip_biased_coin(self, p):\n",
    "        return np.random.rand() < p\n",
    "\n",
    "    def update_counters(self, edge):\n",
    "        # NOTE modified from BASE\n",
    "        u, v = edge\n",
    "        neighborhood = self.S.neighbors(edge)\n",
    "        # define f as in the paper\n",
    "        f = lambda t, M: (t-1) * (t-2) / (M*(M-1))\n",
    "        # find the maximum of f(t, M) and 1\n",
    "        eta = np.max([1.0, f(self.t, self.M)])\n",
    "        for c in neighborhood:\n",
    "            self.tau['global'] += eta\n",
    "            self.tau[c] += eta\n",
    "            self.tau[u] += eta\n",
    "            self.tau[v] += eta\n",
    "    \n",
    "    def global_estimate(self):\n",
    "        # NOTE modified from BASE, according to 4.2.1 in the full paper\n",
    "        print(f\"t: {self.t}, M: {self.M}, tau: {self.tau['global']}\")\n",
    "        return int(self.tau['global'])"
   ]
  },
  {
   "cell_type": "markdown",
   "metadata": {},
   "source": [
    "From the paper:\n",
    "\n",
    "> These results show that trièst-impr is very accurate even when storing **less than a 0.001 fraction of the total edges of the graph**"
   ]
  },
  {
   "cell_type": "code",
   "execution_count": 39,
   "metadata": {},
   "outputs": [
    {
     "name": "stdout",
     "output_type": "stream",
     "text": [
      "M: 5105\n"
     ]
    }
   ],
   "source": [
    "M = int(len(stream)*0.001)\n",
    "print(f\"M: {M}\")\n",
    "tb = TriestImproved(stream, M=M)\n",
    "tb.run()"
   ]
  },
  {
   "cell_type": "code",
   "execution_count": 53,
   "metadata": {},
   "outputs": [
    {
     "name": "stdout",
     "output_type": "stream",
     "text": [
      "t: 5105039, M: 5105, tau: 24139412.554164883\n",
      "Global estimate: 24139412 vs. actual: 13391903\n",
      "Error: 10747509\n"
     ]
    }
   ],
   "source": [
    "estimate = tb.global_estimate()\n",
    "print(f\"Global estimate: {estimate} vs. actual: {NUMBER_OF_TRIANGLES}\")\n",
    "print(f\"Error: {abs(estimate - NUMBER_OF_TRIANGLES)}\")"
   ]
  },
  {
   "cell_type": "markdown",
   "metadata": {},
   "source": [
    "# Performance\n",
    "\n",
    "Let's get som statistics on the performance of the algorithm. To evauluate our implementation, we run it 100 times on the same dataset with $M = 1000$."
   ]
  },
  {
   "cell_type": "code",
   "execution_count": 41,
   "metadata": {},
   "outputs": [
    {
     "name": "stdout",
     "output_type": "stream",
     "text": [
      "M: 1000\n",
      "t: 5105039, M: 1000, tau: 38783498.56918919\n",
      "t: 5105039, M: 1000, tau: 19644376.50867267\n",
      "t: 5105039, M: 1000, tau: 29912869.98375576\n",
      "t: 5105039, M: 1000, tau: 39183380.91688288\n",
      "t: 5105039, M: 1000, tau: 33366588.020834833\n",
      "t: 5105039, M: 1000, tau: 32048645.603205208\n",
      "t: 5105039, M: 1000, tau: 11260865.234274274\n",
      "t: 5105039, M: 1000, tau: 22271474.449971974\n",
      "t: 5105039, M: 1000, tau: 34714954.01325525\n",
      "t: 5105039, M: 1000, tau: 47620577.3661001\n",
      "t: 5105039, M: 1000, tau: 22078304.237095095\n",
      "t: 5105039, M: 1000, tau: 9929910.679933934\n",
      "t: 5105039, M: 1000, tau: 33399918.999307305\n",
      "t: 5105039, M: 1000, tau: 26869649.566590592\n",
      "t: 5105039, M: 1000, tau: 27670031.63500901\n",
      "t: 5105039, M: 1000, tau: 14289598.874176174\n",
      "t: 5105039, M: 1000, tau: 15637802.971163165\n",
      "t: 5105039, M: 1000, tau: 10898432.447173173\n",
      "t: 5105039, M: 1000, tau: 15976355.344226228\n",
      "t: 5105039, M: 1000, tau: 34127741.09930931\n",
      "t: 5105039, M: 1000, tau: 21837438.932784785\n",
      "t: 5105039, M: 1000, tau: 24774385.96235435\n",
      "t: 5105039, M: 1000, tau: 51845275.51659058\n",
      "t: 5105039, M: 1000, tau: 30677045.255203202\n",
      "t: 5105039, M: 1000, tau: 9227973.322940944\n",
      "t: 5105039, M: 1000, tau: 24409852.85562162\n",
      "t: 5105039, M: 1000, tau: 46028773.64433433\n",
      "t: 5105039, M: 1000, tau: 29178370.948126122\n",
      "t: 5105039, M: 1000, tau: 13254967.295895897\n",
      "t: 5105039, M: 1000, tau: 23298944.027227227\n",
      "t: 5105039, M: 1000, tau: 29358708.681901902\n",
      "t: 5105039, M: 1000, tau: 31517617.31264665\n",
      "t: 5105039, M: 1000, tau: 19594189.442144144\n",
      "t: 5105039, M: 1000, tau: 39072508.67391792\n",
      "t: 5105039, M: 1000, tau: 20131814.5032973\n",
      "t: 5105039, M: 1000, tau: 28040055.499453455\n",
      "t: 5105039, M: 1000, tau: 19904062.511515513\n",
      "t: 5105039, M: 1000, tau: 41956737.882684685\n",
      "t: 5105039, M: 1000, tau: 8454358.384016016\n",
      "t: 5105039, M: 1000, tau: 34673090.155253254\n",
      "t: 5105039, M: 1000, tau: 17838791.360204205\n",
      "t: 5105039, M: 1000, tau: 47791752.73960961\n",
      "t: 5105039, M: 1000, tau: 31704818.90293093\n",
      "t: 5105039, M: 1000, tau: 9978095.559101103\n",
      "t: 5105039, M: 1000, tau: 18203104.381495498\n",
      "t: 5105039, M: 1000, tau: 20991228.30353754\n",
      "t: 5105039, M: 1000, tau: 42495437.2725025\n",
      "t: 5105039, M: 1000, tau: 53628298.95254055\n",
      "t: 5105039, M: 1000, tau: 28216995.95294094\n",
      "t: 5105039, M: 1000, tau: 8422781.45393994\n",
      "t: 5105039, M: 1000, tau: 23635479.495481484\n",
      "t: 5105039, M: 1000, tau: 23747519.554694697\n",
      "t: 5105039, M: 1000, tau: 17017257.177119117\n",
      "t: 5105039, M: 1000, tau: 22493800.653027024\n",
      "t: 5105039, M: 1000, tau: 17663246.29453654\n",
      "t: 5105039, M: 1000, tau: 18915911.09626026\n",
      "t: 5105039, M: 1000, tau: 37632890.988418415\n",
      "t: 5105039, M: 1000, tau: 26819482.35085485\n",
      "t: 5105039, M: 1000, tau: 11182861.15151952\n",
      "t: 5105039, M: 1000, tau: 29683102.23230831\n",
      "t: 5105039, M: 1000, tau: 14981481.249677677\n",
      "t: 5105039, M: 1000, tau: 19225904.209865864\n",
      "t: 5105039, M: 1000, tau: 15309909.639255254\n",
      "t: 5105039, M: 1000, tau: 22475498.07908308\n",
      "t: 5105039, M: 1000, tau: 22984230.068946946\n",
      "t: 5105039, M: 1000, tau: 9481728.929993993\n",
      "t: 5105039, M: 1000, tau: 9957316.67875075\n",
      "t: 5105039, M: 1000, tau: 30832005.46609009\n",
      "t: 5105039, M: 1000, tau: 32358451.53183784\n",
      "t: 5105039, M: 1000, tau: 9912690.155851852\n",
      "t: 5105039, M: 1000, tau: 25978822.450290285\n",
      "t: 5105039, M: 1000, tau: 24363142.663821824\n",
      "t: 5105039, M: 1000, tau: 25769523.93094895\n",
      "t: 5105039, M: 1000, tau: 11127361.916854855\n",
      "t: 5105039, M: 1000, tau: 15282717.66506306\n",
      "t: 5105039, M: 1000, tau: 41879548.36668268\n",
      "t: 5105039, M: 1000, tau: 26995629.08526126\n",
      "t: 5105039, M: 1000, tau: 26426557.419229224\n",
      "t: 5105039, M: 1000, tau: 23631669.827133134\n",
      "t: 5105039, M: 1000, tau: 6483158.989791792\n",
      "t: 5105039, M: 1000, tau: 9229375.96787988\n",
      "t: 5105039, M: 1000, tau: 19206818.456034034\n",
      "t: 5105039, M: 1000, tau: 16477007.374522522\n",
      "t: 5105039, M: 1000, tau: 33841279.624426425\n",
      "t: 5105039, M: 1000, tau: 11453667.299673673\n",
      "t: 5105039, M: 1000, tau: 14976914.99925926\n",
      "t: 5105039, M: 1000, tau: 15830106.489275275\n",
      "t: 5105039, M: 1000, tau: 13910703.635845847\n",
      "t: 5105039, M: 1000, tau: 30015127.055187184\n",
      "t: 5105039, M: 1000, tau: 64705117.79353553\n",
      "t: 5105039, M: 1000, tau: 7475263.892444444\n",
      "t: 5105039, M: 1000, tau: 52438686.54622823\n",
      "t: 5105039, M: 1000, tau: 24863978.848894894\n",
      "t: 5105039, M: 1000, tau: 23771252.64464865\n",
      "t: 5105039, M: 1000, tau: 13513357.477709709\n",
      "t: 5105039, M: 1000, tau: 26110084.461095095\n",
      "t: 5105039, M: 1000, tau: 33433153.6285005\n",
      "t: 5105039, M: 1000, tau: 46080616.10614815\n",
      "t: 5105039, M: 1000, tau: 39496153.47451852\n",
      "t: 5105039, M: 1000, tau: 21239378.815303303\n"
     ]
    }
   ],
   "source": [
    "%%cache\n",
    "\n",
    "\"\"\"\n",
    "NOTE this cell is cached, so it will not be executed when you run the notebook.\n",
    "\"\"\"\n",
    "\n",
    "# safety switch, it took 80 minutes to run :(\n",
    "execute_cell = False\n",
    "\n",
    "if execute_cell:\n",
    "    M = 1000\n",
    "    print(f\"M: {M}\")\n",
    "    number_of_runs = 100\n",
    "    runs = []\n",
    "    for i in range(number_of_runs):\n",
    "        ti = TriestImproved(stream, M=M)\n",
    "        ti.run()\n",
    "        runs.append(ti.global_estimate())"
   ]
  },
  {
   "cell_type": "markdown",
   "metadata": {},
   "source": [
    " To get a sense of how the runs are distributed, the result is presented as a violin plot, compared to the actual number of triangles in the graph."
   ]
  },
  {
   "cell_type": "code",
   "execution_count": 50,
   "metadata": {},
   "outputs": [
    {
     "data": {
      "image/png": "[encoded data removed]",
      "text/plain": [
       "<Figure size 640x480 with 1 Axes>"
      ]
     },
     "metadata": {},
     "output_type": "display_data"
    }
   ],
   "source": [
    "import seaborn as sns\n",
    "import matplotlib.pyplot as plt\n",
    "\n",
    "sns.violinplot(runs)\n",
    "plt.axhline(y=NUMBER_OF_TRIANGLES, color='r', linestyle='--')\n",
    "plt.legend(title='', loc='upper right', labels=['Improved Triést Estimate', 'True Number of Triangles']);\n",
    "plt.title('100 runs of improved Triést estimate of Triangles in Google Dataset with a subgraph of 1000 edges');\n"
   ]
  },
  {
   "cell_type": "markdown",
   "metadata": {},
   "source": [
    "According to the paper, the algorithm is able to estimate the exact number of triangles when $M \\ge t$, and should still be accurate with $0.001\\%$ of the stream edges (in this case, $5105$). Using $M=1000$ is a poor choice, but a necessity for this kind of benchmark running on one comptuer. The improved algorithm seem to have a tendancy to overshoot the number of triangles, and increasing $M$ would certainly improve the accuracy. "
   ]
  }
 ],
 "metadata": {
  "kernelspec": {
   "display_name": "Python 3 (ipykernel)",
   "language": "python",
   "name": "python3"
  },
  "language_info": {
   "codemirror_mode": {
    "name": "ipython",
    "version": 3
   },
   "file_extension": ".py",
   "mimetype": "text/x-python",
   "name": "python",
   "nbconvert_exporter": "python",
   "pygments_lexer": "ipython3",
   "version": "3.10.6"
  },
  "orig_nbformat": 4,
  "vscode": {
   "interpreter": {
    "hash": "31f2aee4e71d21fbe5cf8b01ff0e069b9275f58929596ceb00d14d90e3e16cd6"
   }
  }
 },
 "nbformat": 4,
 "nbformat_minor": 2
}
