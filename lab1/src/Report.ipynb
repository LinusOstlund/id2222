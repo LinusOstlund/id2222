{
 "cells": [
  {
   "cell_type": "markdown",
   "metadata": {},
   "source": [
    "# Report - Finding similar items "
   ]
  },
  {
   "cell_type": "code",
   "execution_count": 108,
   "metadata": {},
   "outputs": [],
   "source": [
    "s1 = \"abcdab\"\n",
    "s2 = \"Får får lammdab\""
   ]
  },
  {
   "cell_type": "markdown",
   "metadata": {},
   "source": [
    "# K-shingles\n",
    "\n",
    "> A class&nbsp;<em>Shingling</em>&nbsp;that constructs&nbsp;<em>k</em>–shingles of a given length&nbsp;<em>k</em> (e.g., 10) from a given document, computes a hash value for each unique shingle and represents the document in the form of an ordered set of its hashed&nbsp;<em>k</em>-shingles.\n",
    "\n",
    "* Between two documents\n",
    "* Hash shingles\n",
    "    * vad är en bra hash funktion? Finns i boken."
   ]
  },
  {
   "cell_type": "code",
   "execution_count": 109,
   "metadata": {},
   "outputs": [],
   "source": [
    "def shingle(s, k=5):\n",
    "    \"\"\"\n",
    "    Split a string into k equal sizes \n",
    "    \"\"\"\n",
    "    return set([s[i:(i+k)].lower() for i in range(0, len(s)-k+1)])"
   ]
  },
  {
   "cell_type": "markdown",
   "metadata": {},
   "source": [
    "Using Pyhon's native hash function with congruens to limit the possible outcomes.\n",
    "This function returns a set of all unique functions. I think it is correct, according to [Stanford's slides](http://www.mmds.org/mmds/v2.1/ch03-lsh.pdf), page 22:\n",
    "\n",
    "> Each **unique shingle** is a dimension"
   ]
  },
  {
   "cell_type": "code",
   "execution_count": 110,
   "metadata": {},
   "outputs": [],
   "source": [
    "def get_hashed_shingles(document, k=5, hash_boundary = 2**32):\n",
    "    shingles = shingle(document, k)\n",
    "    hashed_shingles = [hash(shingle) % hash_boundary for shingle in shingles]\n",
    "    return set(hashed_shingles)"
   ]
  },
  {
   "cell_type": "code",
   "execution_count": 111,
   "metadata": {},
   "outputs": [
    {
     "name": "stdout",
     "output_type": "stream",
     "text": [
      "{'abc', 'dab', 'bcd', 'cda'}\n",
      "{3353848201, 1946142227, 1211333773, 2016924367}\n",
      "{'får', 'r l', ' la', ' få', 'mda', 'amm', 'lam', 'dab', 'r f', 'mmd', 'år '}\n",
      "{2272979106, 1437373442, 2270273381, 2178594277, 662651622, 2804253705, 1462665517, 1946142227, 2205822358, 3076531161, 3858275646}\n"
     ]
    }
   ],
   "source": [
    "# SANDBOX - setting test variables and testing functions\n",
    "k = 3\n",
    "\n",
    "print(shingle(s1, k=k))\n",
    "h1 = get_hashed_shingles(s1, k=k)\n",
    "print(h1)\n",
    "\n",
    "print(shingle(s2, k=k))\n",
    "h2 = get_hashed_shingles(s2, k=k)\n",
    "print(h2)"
   ]
  },
  {
   "cell_type": "markdown",
   "metadata": {},
   "source": [
    "# CompareSets\n",
    "\n",
    "> A class&nbsp;<em>CompareSets </em>computes the Jaccard similarity of two sets of integers – two sets of hashed shingles."
   ]
  },
  {
   "cell_type": "markdown",
   "metadata": {},
   "source": [
    "From the lecture:\n",
    "\n",
    "> Column similarirty is the Jaccard similarity of the corresponding sets (rows with value 1) and can be computed using bitwise AND (for intersection) and bitwise OR (for union)\n",
    "\n",
    "Example:\n",
    "\n",
    "If $C_1$ and $C_2$ are a transposed columns, we can follow this approach using bitwise OR and AND to find their Jaccardi Distance:\n",
    "\n",
    "$$ \n",
    "\\begin{align*}\n",
    "C_1 & = 011010, \\\\ C_2 & = 101011 \\\\ \n",
    "C_1 \\cap C_2 & = C_1  \\land C_2 = 2 \\\\ \n",
    "C_1 \\cup C_2 & = C_1 \\lor C_2 = 5 \\\\ \\\\\n",
    "\\text{Jaccardi distance} & = \\frac{|C_1 \\cap C_2|}{|C_1 \\cup C_2|} = \\frac{2}{5}\n",
    "\\end{align*}\n",
    "$$\n",
    "\n",
    "When working with sets in Python, there is native support for bitwise comparisons with `&` and `|`."
   ]
  },
  {
   "cell_type": "code",
   "execution_count": 112,
   "metadata": {},
   "outputs": [
    {
     "name": "stdout",
     "output_type": "stream",
     "text": [
      "{1946142227}\n",
      "{2272979106, 1437373442, 2270273381, 2178594277, 662651622, 3353848201, 2804253705, 1211333773, 1462665517, 2016924367, 1946142227, 2205822358, 3076531161, 3858275646}\n"
     ]
    },
    {
     "data": {
      "text/plain": [
       "0.07142857142857142"
      ]
     },
     "execution_count": 112,
     "metadata": {},
     "output_type": "execute_result"
    }
   ],
   "source": [
    "# sandbox\n",
    "import pandas as pd\n",
    "import numpy as np\n",
    "\n",
    "intersection = h1 & h2\n",
    "union = h1 | h2\n",
    "\n",
    "print(intersection)\n",
    "print(union)\n",
    "len(intersection) / len(union)\n"
   ]
  },
  {
   "cell_type": "code",
   "execution_count": 113,
   "metadata": {},
   "outputs": [],
   "source": [
    "def similarity(A, B):\n",
    "    \"\"\"\n",
    "    Jaccardi similarity between two sets of hashed shingles.\n",
    "    \"\"\"\n",
    "    return len(A & B) / len(A | B)\n",
    "\n",
    "def distance(A, B):\n",
    "    \"\"\"\n",
    "    Jaccardi distance.\n",
    "    \"\"\"\n",
    "    return 1-similarity(A, B)"
   ]
  },
  {
   "cell_type": "code",
   "execution_count": 114,
   "metadata": {},
   "outputs": [
    {
     "data": {
      "text/plain": [
       "0.3793103448275862"
      ]
     },
     "execution_count": 114,
     "metadata": {},
     "output_type": "execute_result"
    }
   ],
   "source": [
    "# SANDBOX - setting test data\n",
    "d3 = \"Jag heter Linus Östlund och är en kille\"\n",
    "d4 = \"Heter jag Linus Östlund och varför är jag en kille?\"\n",
    "d5 = \"En kille heter Linus Östlund och är jag en kille?\"\n",
    "\n",
    "h3 = get_hashed_shingles(d3)\n",
    "h4 = get_hashed_shingles(d4)\n",
    "h5 = get_hashed_shingles(d5)\n",
    "\n",
    "similarity(h3, h4)\n",
    "\n"
   ]
  },
  {
   "cell_type": "markdown",
   "metadata": {},
   "source": [
    "# MinHashing\n",
    "\n",
    "> A class&nbsp;<em>MinHashing</em>&nbsp;that builds a minHash signature (in the form of a vector or a set) of a given length&nbsp;<em>n</em>&nbsp;from a given set of integers (a set of hashed shingles).\n"
   ]
  },
  {
   "cell_type": "code",
   "execution_count": 115,
   "metadata": {},
   "outputs": [],
   "source": [
    "import numpy as np\n",
    "\n",
    "def get_characteristic_matrix(documents_of_hashed_shingles):\n",
    "    \"\"\"\n",
    "    Produce the characteristic matris.\n",
    "    INPUT: documents_of_hashed_shingles -- a list of lists, where each element are a list of a document's hashed shingles.\n",
    "    NOTE Total amount of shingles must be sorted!\n",
    "    Returns a (shingles x documents) matrix with 0 and 1's\n",
    "    TODO is it really necessary to compute this or should it be avoided? Might be very large and poor time complexity.\n",
    "    TODO the input is not documents. Would it be better to just input the documents?\n",
    "    \"\"\"\n",
    "    # Get the union of all shingles, which are the rows in the characteristic matrix\n",
    "    union_of_shingles = get_union_of_shingles(documents_of_hashed_shingles)\n",
    "    # Get the number of documents, which are the columns in the characteristic matrix\n",
    "    number_of_documents = ['D'+str(i) for i in range(len(documents_of_hashed_shingles))]\n",
    "    # Initiate an empty characteristic matrix and then populate it\n",
    "    cm = np.zeros((len(union_of_shingles), len(documents_of_hashed_shingles)))\n",
    "    for i, shingle in enumerate(union_of_shingles):\n",
    "        for j, hashed_shingles in enumerate(documents_of_hashed_shingles):\n",
    "            if shingle in hashed_shingles:\n",
    "                cm[i][j] = 1\n",
    "    # return a pandas dataframe for easier viewing\n",
    "    return pd.DataFrame(cm, columns=number_of_documents, index=union_of_shingles, dtype=int) # kan sätta som 'bool' med dtype=bool\n",
    "\n",
    "def get_union_of_shingles(shingles):\n",
    "    \"\"\"\n",
    "    Get the union of all shingles from a list of shingles.\n",
    "    Output is a sorted list of unique shingles.\n",
    "    \"\"\"\n",
    "    union = set()\n",
    "    for s in shingles:\n",
    "        union |= s\n",
    "    return sorted(union)"
   ]
  },
  {
   "cell_type": "markdown",
   "metadata": {},
   "source": [
    "From a list of hashed shingles `[shingles of documents 1, shingles of document 2, ..]` we generate the *characteristic matrix*:"
   ]
  },
  {
   "cell_type": "code",
   "execution_count": 116,
   "metadata": {},
   "outputs": [
    {
     "data": {
      "text/html": [
       "<div>\n",
       "<style scoped>\n",
       "    .dataframe tbody tr th:only-of-type {\n",
       "        vertical-align: middle;\n",
       "    }\n",
       "\n",
       "    .dataframe tbody tr th {\n",
       "        vertical-align: top;\n",
       "    }\n",
       "\n",
       "    .dataframe thead th {\n",
       "        text-align: right;\n",
       "    }\n",
       "</style>\n",
       "<table border=\"1\" class=\"dataframe\">\n",
       "  <thead>\n",
       "    <tr style=\"text-align: right;\">\n",
       "      <th></th>\n",
       "      <th>D0</th>\n",
       "      <th>D1</th>\n",
       "      <th>D2</th>\n",
       "    </tr>\n",
       "  </thead>\n",
       "  <tbody>\n",
       "    <tr>\n",
       "      <th>35389113</th>\n",
       "      <td>0</td>\n",
       "      <td>1</td>\n",
       "      <td>0</td>\n",
       "    </tr>\n",
       "    <tr>\n",
       "      <th>177223151</th>\n",
       "      <td>0</td>\n",
       "      <td>1</td>\n",
       "      <td>0</td>\n",
       "    </tr>\n",
       "    <tr>\n",
       "      <th>220041776</th>\n",
       "      <td>1</td>\n",
       "      <td>0</td>\n",
       "      <td>0</td>\n",
       "    </tr>\n",
       "    <tr>\n",
       "      <th>322181731</th>\n",
       "      <td>1</td>\n",
       "      <td>1</td>\n",
       "      <td>1</td>\n",
       "    </tr>\n",
       "    <tr>\n",
       "      <th>385490113</th>\n",
       "      <td>1</td>\n",
       "      <td>1</td>\n",
       "      <td>1</td>\n",
       "    </tr>\n",
       "    <tr>\n",
       "      <th>...</th>\n",
       "      <td>...</td>\n",
       "      <td>...</td>\n",
       "      <td>...</td>\n",
       "    </tr>\n",
       "    <tr>\n",
       "      <th>4061221847</th>\n",
       "      <td>0</td>\n",
       "      <td>0</td>\n",
       "      <td>1</td>\n",
       "    </tr>\n",
       "    <tr>\n",
       "      <th>4075206348</th>\n",
       "      <td>1</td>\n",
       "      <td>1</td>\n",
       "      <td>1</td>\n",
       "    </tr>\n",
       "    <tr>\n",
       "      <th>4112375740</th>\n",
       "      <td>1</td>\n",
       "      <td>0</td>\n",
       "      <td>1</td>\n",
       "    </tr>\n",
       "    <tr>\n",
       "      <th>4167215095</th>\n",
       "      <td>1</td>\n",
       "      <td>0</td>\n",
       "      <td>0</td>\n",
       "    </tr>\n",
       "    <tr>\n",
       "      <th>4213007641</th>\n",
       "      <td>0</td>\n",
       "      <td>1</td>\n",
       "      <td>0</td>\n",
       "    </tr>\n",
       "  </tbody>\n",
       "</table>\n",
       "<p>62 rows × 3 columns</p>\n",
       "</div>"
      ],
      "text/plain": [
       "            D0  D1  D2\n",
       "35389113     0   1   0\n",
       "177223151    0   1   0\n",
       "220041776    1   0   0\n",
       "322181731    1   1   1\n",
       "385490113    1   1   1\n",
       "...         ..  ..  ..\n",
       "4061221847   0   0   1\n",
       "4075206348   1   1   1\n",
       "4112375740   1   0   1\n",
       "4167215095   1   0   0\n",
       "4213007641   0   1   0\n",
       "\n",
       "[62 rows x 3 columns]"
      ]
     },
     "execution_count": 116,
     "metadata": {},
     "output_type": "execute_result"
    }
   ],
   "source": [
    "import pandas as pd\n",
    "\n",
    "hashed_shingles = [h3, h4, h5]\n",
    "df = get_characteristic_matrix(hashed_shingles)\n",
    "df"
   ]
  },
  {
   "cell_type": "markdown",
   "metadata": {},
   "source": [
    "# Generating hash functions\n",
    "From [Stanford's slides, p. 39](http://www.mmds.org/mmds/v2.1/ch03-lsh.pdf):\n",
    "> How to pick a random hash function $h(x)$?\n",
    "> * $ h(x) = ( (ax + b) \\mod p ) \\mod N $, where $a$ and $b$ are random integers and $p$ is a prime number larger than $N$."
   ]
  },
  {
   "cell_type": "markdown",
   "metadata": {},
   "source": [
    "MinHash gives the signature of a set. The signature is then used as a proxy for the characterstic matrix, and allows a computational-friendly estimate for the Jaccardian distance. For big datasets, the law of large numbers kicks in.\n",
    "\n",
    "For *k* (**k=100 recommended!**) independent hash functions, and according to the lecture, a hash function can look like this:\n",
    "\n",
    "$$\n",
    "h(x) \\equiv (ax + b) \\mod c\n",
    "$$\n",
    "\n",
    "> Pseudokod finnes i boken (och föreläsningen, 01:00:00 in!\n",
    "\n",
    "You may also use permutations to achieve the same result, but the föreläsare recommends hash functions. Not sure which apporach is easier to understand. "
   ]
  },
  {
   "cell_type": "code",
   "execution_count": 117,
   "metadata": {},
   "outputs": [],
   "source": [
    "import random\n",
    "\n",
    "# TODO fix magic number and approach all together\n",
    "\n",
    "def get_hash_function(N):\n",
    "    \"\"\"\n",
    "    Generate a hash function for a given N\n",
    "    \"\"\"\n",
    "    a = random.randint(0, N)\n",
    "    b = random.randint(0, N)\n",
    "    p = get_prime(N)\n",
    "    return lambda x: ((a * x + b) % p) % N\n",
    "\n",
    "# TODO naive implementation, not efficient, but then again, it's a one off\n",
    "def get_prime(N):\n",
    "    \"\"\"\n",
    "    Get a prime number larger than N\n",
    "    \"\"\"\n",
    "    n = random.randint(N*2, N*4)\n",
    "    while not is_prime(n):\n",
    "        n = random.randint(N*2, N*4)\n",
    "    return n\n",
    "\n",
    "def is_prime(n):\n",
    "    \"\"\"\n",
    "    Check if n is a prime number\n",
    "    \"\"\"\n",
    "    if n < 2:\n",
    "        return False\n",
    "    for i in range(2, n):\n",
    "        if n % i == 0:\n",
    "            return False\n",
    "    return True"
   ]
  },
  {
   "cell_type": "code",
   "execution_count": 118,
   "metadata": {},
   "outputs": [
    {
     "data": {
      "text/plain": [
       "13"
      ]
     },
     "execution_count": 118,
     "metadata": {},
     "output_type": "execute_result"
    }
   ],
   "source": [
    "# SANDBOX\n",
    "hash_functions = [get_hash_function(x) for x in range(10, 100, 7)]\n",
    "len(hash_functions)"
   ]
  },
  {
   "cell_type": "markdown",
   "metadata": {},
   "source": [
    "## Hashing the columns (documents) of the characteristic matrix"
   ]
  },
  {
   "cell_type": "markdown",
   "metadata": {},
   "source": [
    "Here, I generate a `len(hash_functions)` x `len(documents)` matrix, where each row is a hash function, and each column is a document. The value in each cell $hash_i(index_{row})$"
   ]
  },
  {
   "cell_type": "code",
   "execution_count": 119,
   "metadata": {},
   "outputs": [
    {
     "name": "stdout",
     "output_type": "stream",
     "text": [
      "62 13\n"
     ]
    },
    {
     "data": {
      "text/html": [
       "<div>\n",
       "<style scoped>\n",
       "    .dataframe tbody tr th:only-of-type {\n",
       "        vertical-align: middle;\n",
       "    }\n",
       "\n",
       "    .dataframe tbody tr th {\n",
       "        vertical-align: top;\n",
       "    }\n",
       "\n",
       "    .dataframe thead th {\n",
       "        text-align: right;\n",
       "    }\n",
       "</style>\n",
       "<table border=\"1\" class=\"dataframe\">\n",
       "  <thead>\n",
       "    <tr style=\"text-align: right;\">\n",
       "      <th></th>\n",
       "      <th>0</th>\n",
       "      <th>1</th>\n",
       "      <th>2</th>\n",
       "      <th>3</th>\n",
       "      <th>4</th>\n",
       "      <th>5</th>\n",
       "      <th>6</th>\n",
       "      <th>7</th>\n",
       "      <th>8</th>\n",
       "      <th>9</th>\n",
       "      <th>10</th>\n",
       "      <th>11</th>\n",
       "      <th>12</th>\n",
       "    </tr>\n",
       "  </thead>\n",
       "  <tbody>\n",
       "    <tr>\n",
       "      <th>35389113</th>\n",
       "      <td>8</td>\n",
       "      <td>11</td>\n",
       "      <td>23</td>\n",
       "      <td>14</td>\n",
       "      <td>32</td>\n",
       "      <td>44</td>\n",
       "      <td>6</td>\n",
       "      <td>53</td>\n",
       "      <td>46</td>\n",
       "      <td>13</td>\n",
       "      <td>41</td>\n",
       "      <td>86</td>\n",
       "      <td>13</td>\n",
       "    </tr>\n",
       "    <tr>\n",
       "      <th>177223151</th>\n",
       "      <td>8</td>\n",
       "      <td>9</td>\n",
       "      <td>18</td>\n",
       "      <td>25</td>\n",
       "      <td>17</td>\n",
       "      <td>41</td>\n",
       "      <td>47</td>\n",
       "      <td>51</td>\n",
       "      <td>56</td>\n",
       "      <td>48</td>\n",
       "      <td>56</td>\n",
       "      <td>37</td>\n",
       "      <td>5</td>\n",
       "    </tr>\n",
       "    <tr>\n",
       "      <th>220041776</th>\n",
       "      <td>5</td>\n",
       "      <td>7</td>\n",
       "      <td>2</td>\n",
       "      <td>5</td>\n",
       "      <td>2</td>\n",
       "      <td>27</td>\n",
       "      <td>36</td>\n",
       "      <td>36</td>\n",
       "      <td>0</td>\n",
       "      <td>10</td>\n",
       "      <td>71</td>\n",
       "      <td>75</td>\n",
       "      <td>91</td>\n",
       "    </tr>\n",
       "    <tr>\n",
       "      <th>322181731</th>\n",
       "      <td>5</td>\n",
       "      <td>13</td>\n",
       "      <td>21</td>\n",
       "      <td>16</td>\n",
       "      <td>25</td>\n",
       "      <td>24</td>\n",
       "      <td>25</td>\n",
       "      <td>34</td>\n",
       "      <td>10</td>\n",
       "      <td>45</td>\n",
       "      <td>6</td>\n",
       "      <td>26</td>\n",
       "      <td>72</td>\n",
       "    </tr>\n",
       "    <tr>\n",
       "      <th>385490113</th>\n",
       "      <td>2</td>\n",
       "      <td>11</td>\n",
       "      <td>16</td>\n",
       "      <td>27</td>\n",
       "      <td>10</td>\n",
       "      <td>10</td>\n",
       "      <td>14</td>\n",
       "      <td>19</td>\n",
       "      <td>20</td>\n",
       "      <td>7</td>\n",
       "      <td>21</td>\n",
       "      <td>64</td>\n",
       "      <td>64</td>\n",
       "    </tr>\n",
       "    <tr>\n",
       "      <th>...</th>\n",
       "      <td>...</td>\n",
       "      <td>...</td>\n",
       "      <td>...</td>\n",
       "      <td>...</td>\n",
       "      <td>...</td>\n",
       "      <td>...</td>\n",
       "      <td>...</td>\n",
       "      <td>...</td>\n",
       "      <td>...</td>\n",
       "      <td>...</td>\n",
       "      <td>...</td>\n",
       "      <td>...</td>\n",
       "      <td>...</td>\n",
       "    </tr>\n",
       "    <tr>\n",
       "      <th>4061221847</th>\n",
       "      <td>3</td>\n",
       "      <td>6</td>\n",
       "      <td>20</td>\n",
       "      <td>14</td>\n",
       "      <td>33</td>\n",
       "      <td>14</td>\n",
       "      <td>50</td>\n",
       "      <td>27</td>\n",
       "      <td>12</td>\n",
       "      <td>0</td>\n",
       "      <td>63</td>\n",
       "      <td>61</td>\n",
       "      <td>45</td>\n",
       "    </tr>\n",
       "    <tr>\n",
       "      <th>4075206348</th>\n",
       "      <td>3</td>\n",
       "      <td>4</td>\n",
       "      <td>4</td>\n",
       "      <td>25</td>\n",
       "      <td>18</td>\n",
       "      <td>11</td>\n",
       "      <td>39</td>\n",
       "      <td>25</td>\n",
       "      <td>22</td>\n",
       "      <td>35</td>\n",
       "      <td>78</td>\n",
       "      <td>12</td>\n",
       "      <td>26</td>\n",
       "    </tr>\n",
       "    <tr>\n",
       "      <th>4112375740</th>\n",
       "      <td>0</td>\n",
       "      <td>2</td>\n",
       "      <td>23</td>\n",
       "      <td>5</td>\n",
       "      <td>3</td>\n",
       "      <td>8</td>\n",
       "      <td>37</td>\n",
       "      <td>10</td>\n",
       "      <td>32</td>\n",
       "      <td>70</td>\n",
       "      <td>13</td>\n",
       "      <td>50</td>\n",
       "      <td>18</td>\n",
       "    </tr>\n",
       "    <tr>\n",
       "      <th>4167215095</th>\n",
       "      <td>0</td>\n",
       "      <td>8</td>\n",
       "      <td>18</td>\n",
       "      <td>16</td>\n",
       "      <td>26</td>\n",
       "      <td>39</td>\n",
       "      <td>26</td>\n",
       "      <td>8</td>\n",
       "      <td>42</td>\n",
       "      <td>32</td>\n",
       "      <td>28</td>\n",
       "      <td>1</td>\n",
       "      <td>10</td>\n",
       "    </tr>\n",
       "    <tr>\n",
       "      <th>4213007641</th>\n",
       "      <td>0</td>\n",
       "      <td>6</td>\n",
       "      <td>2</td>\n",
       "      <td>7</td>\n",
       "      <td>11</td>\n",
       "      <td>36</td>\n",
       "      <td>15</td>\n",
       "      <td>6</td>\n",
       "      <td>52</td>\n",
       "      <td>67</td>\n",
       "      <td>43</td>\n",
       "      <td>37</td>\n",
       "      <td>85</td>\n",
       "    </tr>\n",
       "  </tbody>\n",
       "</table>\n",
       "<p>62 rows × 13 columns</p>\n",
       "</div>"
      ],
      "text/plain": [
       "            0   1   2   3   4   5   6   7   8   9   10  11  12\n",
       "35389113     8  11  23  14  32  44   6  53  46  13  41  86  13\n",
       "177223151    8   9  18  25  17  41  47  51  56  48  56  37   5\n",
       "220041776    5   7   2   5   2  27  36  36   0  10  71  75  91\n",
       "322181731    5  13  21  16  25  24  25  34  10  45   6  26  72\n",
       "385490113    2  11  16  27  10  10  14  19  20   7  21  64  64\n",
       "...         ..  ..  ..  ..  ..  ..  ..  ..  ..  ..  ..  ..  ..\n",
       "4061221847   3   6  20  14  33  14  50  27  12   0  63  61  45\n",
       "4075206348   3   4   4  25  18  11  39  25  22  35  78  12  26\n",
       "4112375740   0   2  23   5   3   8  37  10  32  70  13  50  18\n",
       "4167215095   0   8  18  16  26  39  26   8  42  32  28   1  10\n",
       "4213007641   0   6   2   7  11  36  15   6  52  67  43  37  85\n",
       "\n",
       "[62 rows x 13 columns]"
      ]
     },
     "execution_count": 119,
     "metadata": {},
     "output_type": "execute_result"
    }
   ],
   "source": [
    "# from here on there it is mostly testing\n",
    "data = []\n",
    "for index in range(len(df.index)):\n",
    "    data.append([f(index) for f in hash_functions])\n",
    "\n",
    "print(len(data), len(data[0]))\n",
    "\n",
    "df_hashed = pd.DataFrame(data=data, index=df.index, columns=range(len(hash_functions)))\n",
    "#df_hashed\n",
    "df_hashed"
   ]
  },
  {
   "cell_type": "code",
   "execution_count": 120,
   "metadata": {},
   "outputs": [],
   "source": [
    "def compute_hashed_minhash(df, hash_functions):\n",
    "    \"\"\"\n",
    "    df: a dataframe with rows as shingles and columns as documents.\n",
    "    hash_functions: a list of hash functions.\n",
    "    Compute the hashed minhash of a dataframe.\n",
    "    \"\"\"\n",
    "    data = []\n",
    "    for index in range(len(df.index)):\n",
    "        data.append([f(index) for f in hash_functions])\n",
    "    return pd.DataFrame(data=data, index=df.index, columns=range(len(hash_functions)))"
   ]
  },
  {
   "cell_type": "code",
   "execution_count": 123,
   "metadata": {},
   "outputs": [],
   "source": [
    "def einsum_signature(A, B):\n",
    "    \"\"\" \n",
    "    A method to get the minhash signature.\n",
    "    Input:  A (shingles x document) matrix\n",
    "            B (shingles x hash function values) matrix\n",
    "    Output: (hash function values x document) matrix\n",
    "    \"\"\"\n",
    "    # check that shingles match\n",
    "    assert A.shape[0] == B.shape[0]\n",
    "    # substitute all 0's with np.inf\n",
    "    A = A.astype(float)\n",
    "    A[A == 0] = np.inf\n",
    "    # make a very large 3D array, using A to mask and filter values\n",
    "    C = np.einsum('sd,sh->hsd', A, B)\n",
    "    # np,nanmin reduces all candidate matrices to their lowest values\n",
    "    # each einsum-generated matrix is a cell in the final array\n",
    "    return np.nanmin(C, axis=1)\n",
    "\n",
    "def naive_signature(A,B):\n",
    "    \"\"\"\n",
    "    Keep for benchmarking\n",
    "    \"\"\"\n",
    "    assert A.shape[0] == B.shape[0]\n",
    "    signature = np.full((B.shape[1], A.shape[1]), np.inf)\n",
    "    for i in range(A.shape[1]):\n",
    "        for j in range(B.shape[1]):\n",
    "            for k in range(A.shape[0]):\n",
    "                if A[k][i] == 1:\n",
    "                    signature[j][i] = min(signature[j][i], B[k][j])"
   ]
  },
  {
   "cell_type": "code",
   "execution_count": 124,
   "metadata": {},
   "outputs": [
    {
     "name": "stdout",
     "output_type": "stream",
     "text": [
      "[[0. 0. 0.]\n",
      " [0. 0. 0.]\n",
      " [0. 0. 0.]\n",
      " [0. 0. 0.]\n",
      " [0. 1. 0.]\n",
      " [0. 0. 0.]\n",
      " [1. 1. 1.]\n",
      " [0. 0. 0.]\n",
      " [0. 1. 1.]\n",
      " [0. 0. 0.]\n",
      " [1. 0. 1.]\n",
      " [1. 0. 2.]\n",
      " [2. 0. 1.]]\n",
      "None\n"
     ]
    }
   ],
   "source": [
    "A = df\n",
    "B = compute_hashed_minhash(df, hash_functions)\n",
    "\n",
    "# so A and B are dataframes....\n",
    "print(einsum_signature(A.to_numpy(), B.to_numpy()))\n",
    "\n",
    "print(naive_signature(A.to_numpy(), B.to_numpy()))\n",
    "\n",
    "\n"
   ]
  },
  {
   "cell_type": "code",
   "execution_count": 23,
   "metadata": {},
   "outputs": [
    {
     "data": {
      "text/plain": [
       "array([[1., 3., 0., 1.],\n",
       "       [0., 2., 0., 0.]])"
      ]
     },
     "execution_count": 23,
     "metadata": {},
     "output_type": "execute_result"
    }
   ],
   "source": [
    "# sandbox to test einsum\n",
    "# exampl from the book\n",
    "import numpy as np\n",
    "\n",
    "# A = (shingels x documents)\n",
    "A = np.array([[1,0,0,1], \n",
    "              [0,0,1,0], \n",
    "              [0,1,0,1], \n",
    "              [1,0,1,1], \n",
    "              [0,0,1,0]], dtype=float)\n",
    "\n",
    "# in the A matrix, replace all 0 with np.inf\n",
    "# NOTE caveat: A is not float matrix and not as space efficient?\n",
    "A[A == 0] = np.inf\n",
    "\n",
    "# B = ( shingels x hash functions)\n",
    "B = np.array([[1,1], \n",
    "              [2,4], \n",
    "              [3,2], \n",
    "              [4,0], \n",
    "              [0,3]])\n",
    "\n",
    "\n",
    "# matrix magic\n",
    "C = np.einsum('sd,sh->hsd', A, B)\n",
    "\n",
    "# find all min values\n",
    "np.nanmin(C, axis=1)"
   ]
  },
  {
   "cell_type": "code",
   "execution_count": 126,
   "metadata": {},
   "outputs": [
    {
     "name": "stdout",
     "output_type": "stream",
     "text": [
      "Time einsum\n",
      "13.3 ms ± 569 µs per loop (mean ± std. dev. of 7 runs, 100 loops each)\n",
      "Time naive\n",
      "3.41 s ± 51.2 ms per loop (mean ± std. dev. of 7 runs, 1 loop each)\n"
     ]
    }
   ],
   "source": [
    "# sandbox to test how it scales\n",
    "s, h, d = 10000, 100, 10\n",
    "\n",
    "A = np.random.randint(2, size = (s, d)).astype(\"float\")\n",
    "A[A == 0] = np.inf\n",
    "\n",
    "B = np.random.randint(1000, size = (s, h)).astype(\"float\")\n",
    "\n",
    "print(\"Time einsum\")\n",
    "%timeit einsum_signature(A,B)\n",
    "\n",
    "print(\"Time naive\")\n",
    "%timeit naive_signature(A,B)\n"
   ]
  },
  {
   "cell_type": "markdown",
   "metadata": {},
   "source": [
    "# LSH\n",
    "\n",
    "With the signature matrix at hand, we are supposed to reduce the number of required comparisons by generating *candidate pairs*, which much likely are going to be similar. This is done by using yet another matrix, the matrix *M*. Approach according to lecture:\n",
    "\n",
    "* Divide matrix *M* into *b* bands and *r* rows\n",
    "* For each band, hash its portion of each column to a hash table with *k* buckets (make *k* as large as possible)\n",
    "* Candidate column pair are those that hash to the same bucker for ≥ 1 band.\n",
    "* tune *b* and *r* to catch most similar pairs, but few non-similar pairs. \n",
    "\n",
    "Recommender *b* and *r* values, but for signatare matrix of 100 hashes *b* = 20, *r* = 5.\n",
    "\n",
    "> Statistiken gås igenom efter ca 1h 10m på föreläsningen. Förstår ej.  "
   ]
  },
  {
   "cell_type": "code",
   "execution_count": null,
   "metadata": {},
   "outputs": [],
   "source": [
    "def find_candidate_pairs():\n",
    "    return null"
   ]
  }
 ],
 "metadata": {
  "kernelspec": {
   "display_name": "Python 3 (ipykernel)",
   "language": "python",
   "name": "python3"
  },
  "language_info": {
   "codemirror_mode": {
    "name": "ipython",
    "version": 3
   },
   "file_extension": ".py",
   "mimetype": "text/x-python",
   "name": "python",
   "nbconvert_exporter": "python",
   "pygments_lexer": "ipython3",
   "version": "3.10.7"
  },
  "orig_nbformat": 4,
  "vscode": {
   "interpreter": {
    "hash": "31f2aee4e71d21fbe5cf8b01ff0e069b9275f58929596ceb00d14d90e3e16cd6"
   }
  }
 },
 "nbformat": 4,
 "nbformat_minor": 2
}
